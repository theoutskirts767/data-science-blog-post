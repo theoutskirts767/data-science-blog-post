{
  "cells": [
    {
      "cell_type": "markdown",
      "metadata": {
        "id": "view-in-github",
        "colab_type": "text"
      },
      "source": [
        "<a href=\"https://colab.research.google.com/github/theoutskirts767/data-science-blog-post/blob/main/Titanic_Dataset.ipynb\" target=\"_parent\"><img src=\"https://colab.research.google.com/assets/colab-badge.svg\" alt=\"Open In Colab\"/></a>"
      ]
    },
    {
      "cell_type": "code",
      "source": [
        "# Import the pandas library for data manipulation\n",
        "import pandas as pd\n",
        "\n",
        "# Create a dictionary to hold the data for a few passengers\n",
        "data = {\n",
        "    'Name': [\n",
        "        'Allen, Miss. Elisabeth Walton',\n",
        "        'Allison, Mr. Hudson Joshua Creighton',\n",
        "        'Boulton, Dr. William',\n",
        "        'Collyer, Mr. John',\n",
        "        'Fortune, Miss. Alice',\n",
        "        'Panula, Mr. Eino',\n",
        "        'Rice, Master. George'\n",
        "    ],\n",
        "    'Sex': [\n",
        "        'female',\n",
        "        'male',\n",
        "        'male',\n",
        "        'male',\n",
        "        'female',\n",
        "        'male',\n",
        "        'male'\n",
        "    ],\n",
        "    'Age': [\n",
        "        29.0,\n",
        "        30.0,\n",
        "        33.0,\n",
        "        8.0,\n",
        "        24.0,\n",
        "        14.0,\n",
        "        8.0\n",
        "    ],\n",
        "    'Survived': [\n",
        "        1,  # 1 indicates survived\n",
        "        0,  # 0 indicates did not survive\n",
        "        1,\n",
        "        0,\n",
        "        1,\n",
        "        0,\n",
        "        0\n",
        "    ]\n",
        "}\n",
        "\n",
        "# Create the DataFrame using the dictionary\n",
        "df = pd.DataFrame(data)\n",
        "\n",
        "# Display the DataFrame\n",
        "print(\"Titanic Survivors and Non-Survivors Dataset:\")\n",
        "print(df)\n",
        "\n",
        "# You can now perform various operations on this DataFrame.\n",
        "# For example, to see how many people survived:\n",
        "print(\"\\nSurvival Count:\")\n",
        "print(df['Survived'].value_counts())"
      ],
      "outputs": [
        {
          "output_type": "stream",
          "name": "stdout",
          "text": [
            "Titanic Survivors and Non-Survivors Dataset:\n",
            "                                   Name     Sex   Age  Survived\n",
            "0         Allen, Miss. Elisabeth Walton  female  29.0         1\n",
            "1  Allison, Mr. Hudson Joshua Creighton    male  30.0         0\n",
            "2                  Boulton, Dr. William    male  33.0         1\n",
            "3                     Collyer, Mr. John    male   8.0         0\n",
            "4                  Fortune, Miss. Alice  female  24.0         1\n",
            "5                      Panula, Mr. Eino    male  14.0         0\n",
            "6                  Rice, Master. George    male   8.0         0\n",
            "\n",
            "Survival Count:\n",
            "Survived\n",
            "0    4\n",
            "1    3\n",
            "Name: count, dtype: int64\n"
          ]
        }
      ],
      "execution_count": null,
      "metadata": {
        "colab": {
          "base_uri": "https://localhost:8080/"
        },
        "id": "zekdedNri9yw",
        "outputId": "2dc3bdfc-b491-4b9b-e628-83d13cece2c9"
      }
    },
    {
      "cell_type": "markdown",
      "source": [
        "\n"
      ],
      "metadata": {
        "id": "ZD-EI28XjVyi"
      }
    }
  ],
  "metadata": {
    "colab": {
      "provenance": [],
      "include_colab_link": true
    },
    "kernelspec": {
      "display_name": "Python 3",
      "name": "python3"
    }
  },
  "nbformat": 4,
  "nbformat_minor": 0
}