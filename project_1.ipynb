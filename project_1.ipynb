# Imports
import pandas as pd
import matplotlib.pyplot as plt

# Apply a consistent plotting style
plt.style.use('seaborn-v0_8')

def load_aggregated_data():
    """
    Return the aggregated Titanic datasets.
    
    Returns:
        deaths (dict): total, male, and female death counts.
        fallout (dict): financial fallout by category (in millions USD).
    """
    deaths = {
        'total': 1500,
        'male': 1200,
        'female': 300
    }
    fallout = {
        'categories': ['Legal Claims', 'Insurance Payouts', 'Fleet Changes'],
        'values': [6, 9, 4]
    }
    return deaths, fallout

# Load data
deaths, fallout = load_aggregated_data()
def summarize_deaths(deaths):
    """
    Compute percentages and return a summary DataFrame.
    
    Args:
        deaths (dict): keys 'total', 'male', 'female'.
    
    Returns:
        pd.DataFrame: one-row summary with counts and percentages.
    """
    total = deaths['total']
    male = deaths['male']
    female = deaths['female']
    male_pct = male / total * 100
    female_pct = female / total * 100
    
    summary = {
        'Total Deaths': total,
        'Male Deaths': male,
        'Female Deaths': female,
        'Male %': male_pct,
        'Female %': female_pct
    }
    return pd.DataFrame([summary])

# Generate and display summary
df_death_summary = summarize_deaths(deaths)
df_death_summary

# No cleaning needed: data is aggregated and complete.
def create_bar_plot(ax, categories, values, title, ylabel, label_fmt, color=None):
    """
    Plot a bar chart on the given axes with annotated labels.
    
    Args:
        ax (matplotlib.axes.Axes): Axis to plot on.
        categories (list of str): Bar labels.
        values (list of float): Heights of bars.
        title (str): Plot title.
        ylabel (str): Y-axis label.
        label_fmt (str): format string for annotations.
        color (str or list of str, optional): Bar colors.
    
    Returns:
        matplotlib.container.BarContainer
    """
    bars = ax.bar(categories, values, color=color)
    ax.set_title(title)
    ax.set_ylabel(ylabel)
    
    max_val = max(values)
    offset = max_val * 0.05
    for bar in bars:
        height = bar.get_height()
        ax.text(
            bar.get_x() + bar.get_width()/2,
            height + offset,
            label_fmt.format(height),
            ha='center'
        )
    return bars

def plot_death_statistics(deaths):
    """
    Create side-by-side plots of total deaths and death % by gender.
    
    Args:
        deaths (dict): aggregated death counts.
    """
    total = deaths['total']
    male = deaths['male']
    female = deaths['female']
    male_pct = male / total * 100
    female_pct = female / total * 100

    fig, axes = plt.subplots(1, 2, figsize=(12, 5))

    # Total deaths
    create_bar_plot(
        ax=axes[0],
        categories=['Total Deaths'],
        values=[total],
        title='Total Deaths on Titanic',
        ylabel='Number of People',
        label_fmt='{:.0f}',
        color='red'
    )

    # Death % by gender
    create_bar_plot(
        ax=axes[1],
        categories=['Male', 'Female'],
        values=[male_pct, female_pct],
        title='Death % by Gender',
        ylabel='Percentage',
        label_fmt='{:.1f} %',
        color=['blue', 'pink']
    )

    plt.tight_layout()
    plt.show()

def plot_financial_fallout(categories, values):
    """
    Plot financial fallout categories with values in millions USD.
    
    Args:
        categories (list of str): fallout categories.
        values (list of float): amounts in millions USD.
    """
    fig, ax = plt.subplots(figsize=(8, 6))
    create_bar_plot(
        ax=ax,
        categories=categories,
        values=values,
        title='Financial Fallout from the Titanic Disaster',
        ylabel='Amount (in Millions USD)',
        label_fmt='${:.0f}M'
    )
    ax.set_ylim(0, max(values) + 2)
    plt.tight_layout()
    plt.show()

# Execute plots
plot_death_statistics(deaths)
plot_financial_fallout(fallout['categories'], fallout['values'])

# No predictive modeling required for this descriptive analysis.
