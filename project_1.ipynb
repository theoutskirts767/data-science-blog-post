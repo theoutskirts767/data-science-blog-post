# Imports
import pandas as pd
import matplotlib.pyplot as plt

# Apply a consistent plotting style
plt.style.use('seaborn-v0_8')
def load_aggregated_data():
    """
    Return the aggregated Titanic datasets.
    
    Returns:
        deaths (dict): total, male, and female death counts.
        fallout (dict): financial fallout by category (in millions USD).
    """
    deaths = {
        'total': 1500,
        'male': 1200,
        'female': 300
    }
    fallout = {
        'categories': ['Legal Claims', 'Insurance Payouts', 'Fleet Changes'],
        'values': [6, 9, 4]
    }
    return deaths, fallout

# Load data
deaths, fallout = load_aggregated_data()
def summarize_deaths(deaths):
    """
    Compute percentages and return a summary DataFrame.
    
    Args:
        deaths (dict): keys 'total', 'male', 'female'.
    
    Returns:
        pd.DataFrame: one-row summary with counts and percentages.
    """
    total = deaths['total']
    male = deaths['male']
    female = deaths['female']
    male_pct = male / total * 100
    female_pct = female / total * 100
    
    summary = {
        'Total Deaths': total,
        'Male Deaths': male,
        'Female Deaths': female,
        'Male %': male_pct,
        'Female %': female_pct
    }
    return pd.DataFrame([summary])

# Generate and display summary
df_death_summary = summarize_deaths(deaths)
df_death_summary

# No cleaning needed: data is aggregated and complete.
